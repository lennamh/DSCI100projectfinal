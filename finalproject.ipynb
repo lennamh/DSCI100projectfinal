{
 "cells": [
  {
   "cell_type": "markdown",
   "id": "b205bd41-abc0-48ea-97cb-41b47784c938",
   "metadata": {},
   "source": [
    "hello "
   ]
  },
  {
   "cell_type": "code",
   "execution_count": null,
   "id": "389d40b4-1d71-4f89-a896-690182ad39b9",
   "metadata": {},
   "outputs": [],
   "source": []
  }
 ],
 "metadata": {
  "kernelspec": {
   "display_name": "R",
   "language": "R",
   "name": "ir"
  },
  "language_info": {
   "codemirror_mode": "r",
   "file_extension": ".r",
   "mimetype": "text/x-r-source",
   "name": "R",
   "pygments_lexer": "r",
   "version": "4.3.3"
  }
 },
 "nbformat": 4,
 "nbformat_minor": 5
}
