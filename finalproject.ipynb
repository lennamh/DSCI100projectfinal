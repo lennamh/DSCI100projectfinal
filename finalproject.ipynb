{
 "cells": [
  {
   "cell_type": "markdown",
   "id": "166049cb-3693-48d5-8064-6a5d76fab157",
   "metadata": {},
   "source": [
    "# Data Science Project"
   ]
  },
  {
   "cell_type": "code",
   "execution_count": 7,
   "id": "ee4421a1-5631-44dd-9bac-3ac3dc48a1fd",
   "metadata": {},
   "outputs": [],
   "source": [
    "library(tidyverse)\n",
    "library(repr)\n",
    "library(tidymodels)"
   ]
  },
  {
   "cell_type": "code",
   "execution_count": 8,
   "id": "dcb248c9-31a2-4d1e-ad67-42fea3035807",
   "metadata": {},
   "outputs": [
    {
     "name": "stderr",
     "output_type": "stream",
     "text": [
      "\u001b[1mRows: \u001b[22m\u001b[34m196\u001b[39m \u001b[1mColumns: \u001b[22m\u001b[34m7\u001b[39m\n",
      "\u001b[36m──\u001b[39m \u001b[1mColumn specification\u001b[22m \u001b[36m────────────────────────────────────────────────────────\u001b[39m\n",
      "\u001b[1mDelimiter:\u001b[22m \",\"\n",
      "\u001b[31mchr\u001b[39m (4): experience, hashedEmail, name, gender\n",
      "\u001b[32mdbl\u001b[39m (2): played_hours, Age\n",
      "\u001b[33mlgl\u001b[39m (1): subscribe\n",
      "\n",
      "\u001b[36mℹ\u001b[39m Use `spec()` to retrieve the full column specification for this data.\n",
      "\u001b[36mℹ\u001b[39m Specify the column types or set `show_col_types = FALSE` to quiet this message.\n"
     ]
    },
    {
     "data": {
      "text/html": [
       "<table class=\"dataframe\">\n",
       "<caption>A tibble: 6 × 7</caption>\n",
       "<thead>\n",
       "\t<tr><th scope=col>experience</th><th scope=col>subscribe</th><th scope=col>hashedEmail</th><th scope=col>played_hours</th><th scope=col>name</th><th scope=col>gender</th><th scope=col>Age</th></tr>\n",
       "\t<tr><th scope=col>&lt;chr&gt;</th><th scope=col>&lt;lgl&gt;</th><th scope=col>&lt;chr&gt;</th><th scope=col>&lt;dbl&gt;</th><th scope=col>&lt;chr&gt;</th><th scope=col>&lt;chr&gt;</th><th scope=col>&lt;dbl&gt;</th></tr>\n",
       "</thead>\n",
       "<tbody>\n",
       "\t<tr><td>Pro    </td><td> TRUE</td><td>f6daba428a5e19a3d47574858c13550499be23603422e6a0ee9728f8b53e192d</td><td>30.3</td><td>Morgan   </td><td>Male  </td><td> 9</td></tr>\n",
       "\t<tr><td>Veteran</td><td> TRUE</td><td>f3c813577c458ba0dfef80996f8f32c93b6e8af1fa939732842f2312358a88e9</td><td> 3.8</td><td>Christian</td><td>Male  </td><td>17</td></tr>\n",
       "\t<tr><td>Veteran</td><td>FALSE</td><td>b674dd7ee0d24096d1c019615ce4d12b20fcbff12d79d3c5a9d2118eb7ccbb28</td><td> 0.0</td><td>Blake    </td><td>Male  </td><td>17</td></tr>\n",
       "\t<tr><td>Amateur</td><td> TRUE</td><td>23fe711e0e3b77f1da7aa221ab1192afe21648d47d2b4fa7a5a659ff443a0eb5</td><td> 0.7</td><td>Flora    </td><td>Female</td><td>21</td></tr>\n",
       "\t<tr><td>Regular</td><td> TRUE</td><td>7dc01f10bf20671ecfccdac23812b1b415acd42c2147cb0af4d48fcce2420f3e</td><td> 0.1</td><td>Kylie    </td><td>Male  </td><td>21</td></tr>\n",
       "\t<tr><td>Amateur</td><td> TRUE</td><td>f58aad5996a435f16b0284a3b267f973f9af99e7a89bee0430055a44fa92f977</td><td> 0.0</td><td>Adrian   </td><td>Female</td><td>17</td></tr>\n",
       "</tbody>\n",
       "</table>\n"
      ],
      "text/latex": [
       "A tibble: 6 × 7\n",
       "\\begin{tabular}{lllllll}\n",
       " experience & subscribe & hashedEmail & played\\_hours & name & gender & Age\\\\\n",
       " <chr> & <lgl> & <chr> & <dbl> & <chr> & <chr> & <dbl>\\\\\n",
       "\\hline\n",
       "\t Pro     &  TRUE & f6daba428a5e19a3d47574858c13550499be23603422e6a0ee9728f8b53e192d & 30.3 & Morgan    & Male   &  9\\\\\n",
       "\t Veteran &  TRUE & f3c813577c458ba0dfef80996f8f32c93b6e8af1fa939732842f2312358a88e9 &  3.8 & Christian & Male   & 17\\\\\n",
       "\t Veteran & FALSE & b674dd7ee0d24096d1c019615ce4d12b20fcbff12d79d3c5a9d2118eb7ccbb28 &  0.0 & Blake     & Male   & 17\\\\\n",
       "\t Amateur &  TRUE & 23fe711e0e3b77f1da7aa221ab1192afe21648d47d2b4fa7a5a659ff443a0eb5 &  0.7 & Flora     & Female & 21\\\\\n",
       "\t Regular &  TRUE & 7dc01f10bf20671ecfccdac23812b1b415acd42c2147cb0af4d48fcce2420f3e &  0.1 & Kylie     & Male   & 21\\\\\n",
       "\t Amateur &  TRUE & f58aad5996a435f16b0284a3b267f973f9af99e7a89bee0430055a44fa92f977 &  0.0 & Adrian    & Female & 17\\\\\n",
       "\\end{tabular}\n"
      ],
      "text/markdown": [
       "\n",
       "A tibble: 6 × 7\n",
       "\n",
       "| experience &lt;chr&gt; | subscribe &lt;lgl&gt; | hashedEmail &lt;chr&gt; | played_hours &lt;dbl&gt; | name &lt;chr&gt; | gender &lt;chr&gt; | Age &lt;dbl&gt; |\n",
       "|---|---|---|---|---|---|---|\n",
       "| Pro     |  TRUE | f6daba428a5e19a3d47574858c13550499be23603422e6a0ee9728f8b53e192d | 30.3 | Morgan    | Male   |  9 |\n",
       "| Veteran |  TRUE | f3c813577c458ba0dfef80996f8f32c93b6e8af1fa939732842f2312358a88e9 |  3.8 | Christian | Male   | 17 |\n",
       "| Veteran | FALSE | b674dd7ee0d24096d1c019615ce4d12b20fcbff12d79d3c5a9d2118eb7ccbb28 |  0.0 | Blake     | Male   | 17 |\n",
       "| Amateur |  TRUE | 23fe711e0e3b77f1da7aa221ab1192afe21648d47d2b4fa7a5a659ff443a0eb5 |  0.7 | Flora     | Female | 21 |\n",
       "| Regular |  TRUE | 7dc01f10bf20671ecfccdac23812b1b415acd42c2147cb0af4d48fcce2420f3e |  0.1 | Kylie     | Male   | 21 |\n",
       "| Amateur |  TRUE | f58aad5996a435f16b0284a3b267f973f9af99e7a89bee0430055a44fa92f977 |  0.0 | Adrian    | Female | 17 |\n",
       "\n"
      ],
      "text/plain": [
       "  experience subscribe\n",
       "1 Pro         TRUE    \n",
       "2 Veteran     TRUE    \n",
       "3 Veteran    FALSE    \n",
       "4 Amateur     TRUE    \n",
       "5 Regular     TRUE    \n",
       "6 Amateur     TRUE    \n",
       "  hashedEmail                                                      played_hours\n",
       "1 f6daba428a5e19a3d47574858c13550499be23603422e6a0ee9728f8b53e192d 30.3        \n",
       "2 f3c813577c458ba0dfef80996f8f32c93b6e8af1fa939732842f2312358a88e9  3.8        \n",
       "3 b674dd7ee0d24096d1c019615ce4d12b20fcbff12d79d3c5a9d2118eb7ccbb28  0.0        \n",
       "4 23fe711e0e3b77f1da7aa221ab1192afe21648d47d2b4fa7a5a659ff443a0eb5  0.7        \n",
       "5 7dc01f10bf20671ecfccdac23812b1b415acd42c2147cb0af4d48fcce2420f3e  0.1        \n",
       "6 f58aad5996a435f16b0284a3b267f973f9af99e7a89bee0430055a44fa92f977  0.0        \n",
       "  name      gender Age\n",
       "1 Morgan    Male    9 \n",
       "2 Christian Male   17 \n",
       "3 Blake     Male   17 \n",
       "4 Flora     Female 21 \n",
       "5 Kylie     Male   21 \n",
       "6 Adrian    Female 17 "
      ]
     },
     "metadata": {},
     "output_type": "display_data"
    }
   ],
   "source": [
    "url <- \"https://drive.google.com/uc?export=download&id=1kBbW3nLa_kBrNruxi2itBmCwvUT29w8b\" \n",
    "players_df <- read_csv(url)\n",
    "head(players_df)\n"
   ]
  },
  {
   "cell_type": "markdown",
   "id": "1e8c0f24-8570-4a36-bc8b-79c8ac54d22e",
   "metadata": {},
   "source": [
    "## Introduction:\n",
    "### Data Description:\n",
    "\n"
   ]
  },
  {
   "cell_type": "markdown",
   "id": "6297bfae-1644-4440-8657-6cb6ed291708",
   "metadata": {},
   "source": [
    "## Methods:\n",
    "\n",
    "\n"
   ]
  },
  {
   "cell_type": "code",
   "execution_count": 9,
   "id": "dfa60123-881d-4f41-945a-d34554daf151",
   "metadata": {},
   "outputs": [
    {
     "data": {
      "text/html": [
       "<table class=\"dataframe\">\n",
       "<caption>A tibble: 1 × 2</caption>\n",
       "<thead>\n",
       "\t<tr><th scope=col>played_hours</th><th scope=col>Age</th></tr>\n",
       "\t<tr><th scope=col>&lt;dbl&gt;</th><th scope=col>&lt;dbl&gt;</th></tr>\n",
       "</thead>\n",
       "<tbody>\n",
       "\t<tr><td>5.845918</td><td>20.52062</td></tr>\n",
       "</tbody>\n",
       "</table>\n"
      ],
      "text/latex": [
       "A tibble: 1 × 2\n",
       "\\begin{tabular}{ll}\n",
       " played\\_hours & Age\\\\\n",
       " <dbl> & <dbl>\\\\\n",
       "\\hline\n",
       "\t 5.845918 & 20.52062\\\\\n",
       "\\end{tabular}\n"
      ],
      "text/markdown": [
       "\n",
       "A tibble: 1 × 2\n",
       "\n",
       "| played_hours &lt;dbl&gt; | Age &lt;dbl&gt; |\n",
       "|---|---|\n",
       "| 5.845918 | 20.52062 |\n",
       "\n"
      ],
      "text/plain": [
       "  played_hours Age     \n",
       "1 5.845918     20.52062"
      ]
     },
     "metadata": {},
     "output_type": "display_data"
    },
    {
     "data": {
      "text/html": [
       "<table class=\"dataframe\">\n",
       "<caption>A tibble: 6 × 3</caption>\n",
       "<thead>\n",
       "\t<tr><th scope=col>played_hours</th><th scope=col>age</th><th scope=col>subscribe</th></tr>\n",
       "\t<tr><th scope=col>&lt;dbl&gt;</th><th scope=col>&lt;dbl&gt;</th><th scope=col>&lt;lgl&gt;</th></tr>\n",
       "</thead>\n",
       "<tbody>\n",
       "\t<tr><td>56.1</td><td>23</td><td>TRUE</td></tr>\n",
       "\t<tr><td>53.9</td><td>17</td><td>TRUE</td></tr>\n",
       "\t<tr><td>48.4</td><td>17</td><td>TRUE</td></tr>\n",
       "\t<tr><td>32.0</td><td>22</td><td>TRUE</td></tr>\n",
       "\t<tr><td>30.3</td><td> 9</td><td>TRUE</td></tr>\n",
       "\t<tr><td>23.7</td><td>24</td><td>TRUE</td></tr>\n",
       "</tbody>\n",
       "</table>\n"
      ],
      "text/latex": [
       "A tibble: 6 × 3\n",
       "\\begin{tabular}{lll}\n",
       " played\\_hours & age & subscribe\\\\\n",
       " <dbl> & <dbl> & <lgl>\\\\\n",
       "\\hline\n",
       "\t 56.1 & 23 & TRUE\\\\\n",
       "\t 53.9 & 17 & TRUE\\\\\n",
       "\t 48.4 & 17 & TRUE\\\\\n",
       "\t 32.0 & 22 & TRUE\\\\\n",
       "\t 30.3 &  9 & TRUE\\\\\n",
       "\t 23.7 & 24 & TRUE\\\\\n",
       "\\end{tabular}\n"
      ],
      "text/markdown": [
       "\n",
       "A tibble: 6 × 3\n",
       "\n",
       "| played_hours &lt;dbl&gt; | age &lt;dbl&gt; | subscribe &lt;lgl&gt; |\n",
       "|---|---|---|\n",
       "| 56.1 | 23 | TRUE |\n",
       "| 53.9 | 17 | TRUE |\n",
       "| 48.4 | 17 | TRUE |\n",
       "| 32.0 | 22 | TRUE |\n",
       "| 30.3 |  9 | TRUE |\n",
       "| 23.7 | 24 | TRUE |\n",
       "\n"
      ],
      "text/plain": [
       "  played_hours age subscribe\n",
       "1 56.1         23  TRUE     \n",
       "2 53.9         17  TRUE     \n",
       "3 48.4         17  TRUE     \n",
       "4 32.0         22  TRUE     \n",
       "5 30.3          9  TRUE     \n",
       "6 23.7         24  TRUE     "
      ]
     },
     "metadata": {},
     "output_type": "display_data"
    },
    {
     "data": {
      "text/html": [
       "<table class=\"dataframe\">\n",
       "<caption>A tibble: 6 × 3</caption>\n",
       "<thead>\n",
       "\t<tr><th scope=col>played_hours</th><th scope=col>age</th><th scope=col>subscribe</th></tr>\n",
       "\t<tr><th scope=col>&lt;dbl&gt;</th><th scope=col>&lt;dbl&gt;</th><th scope=col>&lt;fct&gt;</th></tr>\n",
       "</thead>\n",
       "<tbody>\n",
       "\t<tr><td>56.1</td><td>23</td><td>TRUE</td></tr>\n",
       "\t<tr><td>53.9</td><td>17</td><td>TRUE</td></tr>\n",
       "\t<tr><td>48.4</td><td>17</td><td>TRUE</td></tr>\n",
       "\t<tr><td>32.0</td><td>22</td><td>TRUE</td></tr>\n",
       "\t<tr><td>30.3</td><td> 9</td><td>TRUE</td></tr>\n",
       "\t<tr><td>23.7</td><td>24</td><td>TRUE</td></tr>\n",
       "</tbody>\n",
       "</table>\n"
      ],
      "text/latex": [
       "A tibble: 6 × 3\n",
       "\\begin{tabular}{lll}\n",
       " played\\_hours & age & subscribe\\\\\n",
       " <dbl> & <dbl> & <fct>\\\\\n",
       "\\hline\n",
       "\t 56.1 & 23 & TRUE\\\\\n",
       "\t 53.9 & 17 & TRUE\\\\\n",
       "\t 48.4 & 17 & TRUE\\\\\n",
       "\t 32.0 & 22 & TRUE\\\\\n",
       "\t 30.3 &  9 & TRUE\\\\\n",
       "\t 23.7 & 24 & TRUE\\\\\n",
       "\\end{tabular}\n"
      ],
      "text/markdown": [
       "\n",
       "A tibble: 6 × 3\n",
       "\n",
       "| played_hours &lt;dbl&gt; | age &lt;dbl&gt; | subscribe &lt;fct&gt; |\n",
       "|---|---|---|\n",
       "| 56.1 | 23 | TRUE |\n",
       "| 53.9 | 17 | TRUE |\n",
       "| 48.4 | 17 | TRUE |\n",
       "| 32.0 | 22 | TRUE |\n",
       "| 30.3 |  9 | TRUE |\n",
       "| 23.7 | 24 | TRUE |\n",
       "\n"
      ],
      "text/plain": [
       "  played_hours age subscribe\n",
       "1 56.1         23  TRUE     \n",
       "2 53.9         17  TRUE     \n",
       "3 48.4         17  TRUE     \n",
       "4 32.0         22  TRUE     \n",
       "5 30.3          9  TRUE     \n",
       "6 23.7         24  TRUE     "
      ]
     },
     "metadata": {},
     "output_type": "display_data"
    }
   ],
   "source": [
    "#finding the average values\n",
    "players_average_values <- players_df |>\n",
    "select(played_hours, Age) |>\n",
    "summarize(across(played_hours:Age, mean, na.rm = TRUE))\n",
    "players_average_values\n",
    "\n",
    "#data wrangling\n",
    "players_data_new <- players_df|>\n",
    "rename(hashed_email = hashedEmail, age = Age) |>\n",
    "filter(played_hours < 150.0, age != \"NA\") |>\n",
    "select(played_hours, age,subscribe) |>\n",
    "arrange(desc(played_hours))\n",
    "head(players_data_new)\n",
    "\n",
    "#mutate the response variable into factor data type\n",
    "players_mutate<-players_data_new|>\n",
    "mutate(subscribe=as_factor(subscribe))\n",
    "\n",
    "head(players_mutate)"
   ]
  },
  {
   "cell_type": "markdown",
   "id": "3c86f05e-8394-4618-84f6-ce4d64d51495",
   "metadata": {},
   "source": [
    "explain what we did^ and then explain why we scale"
   ]
  },
  {
   "cell_type": "code",
   "execution_count": 11,
   "id": "e6b43550-b9d1-414f-9d70-ff0ae37f7e1d",
   "metadata": {},
   "outputs": [
    {
     "data": {
      "text/html": [
       "<table class=\"dataframe\">\n",
       "<caption>A tibble: 6 × 3</caption>\n",
       "<thead>\n",
       "\t<tr><th scope=col>played_hours</th><th scope=col>age</th><th scope=col>subscribe</th></tr>\n",
       "\t<tr><th scope=col>&lt;dbl&gt;</th><th scope=col>&lt;dbl&gt;</th><th scope=col>&lt;fct&gt;</th></tr>\n",
       "</thead>\n",
       "<tbody>\n",
       "\t<tr><td>7.1</td><td>17</td><td>FALSE</td></tr>\n",
       "\t<tr><td>2.7</td><td>22</td><td>FALSE</td></tr>\n",
       "\t<tr><td>2.7</td><td>21</td><td>FALSE</td></tr>\n",
       "\t<tr><td>2.1</td><td>24</td><td>FALSE</td></tr>\n",
       "\t<tr><td>1.8</td><td>32</td><td>FALSE</td></tr>\n",
       "\t<tr><td>1.7</td><td>17</td><td>FALSE</td></tr>\n",
       "</tbody>\n",
       "</table>\n"
      ],
      "text/latex": [
       "A tibble: 6 × 3\n",
       "\\begin{tabular}{lll}\n",
       " played\\_hours & age & subscribe\\\\\n",
       " <dbl> & <dbl> & <fct>\\\\\n",
       "\\hline\n",
       "\t 7.1 & 17 & FALSE\\\\\n",
       "\t 2.7 & 22 & FALSE\\\\\n",
       "\t 2.7 & 21 & FALSE\\\\\n",
       "\t 2.1 & 24 & FALSE\\\\\n",
       "\t 1.8 & 32 & FALSE\\\\\n",
       "\t 1.7 & 17 & FALSE\\\\\n",
       "\\end{tabular}\n"
      ],
      "text/markdown": [
       "\n",
       "A tibble: 6 × 3\n",
       "\n",
       "| played_hours &lt;dbl&gt; | age &lt;dbl&gt; | subscribe &lt;fct&gt; |\n",
       "|---|---|---|\n",
       "| 7.1 | 17 | FALSE |\n",
       "| 2.7 | 22 | FALSE |\n",
       "| 2.7 | 21 | FALSE |\n",
       "| 2.1 | 24 | FALSE |\n",
       "| 1.8 | 32 | FALSE |\n",
       "| 1.7 | 17 | FALSE |\n",
       "\n"
      ],
      "text/plain": [
       "  played_hours age subscribe\n",
       "1 7.1          17  FALSE    \n",
       "2 2.7          22  FALSE    \n",
       "3 2.7          21  FALSE    \n",
       "4 2.1          24  FALSE    \n",
       "5 1.8          32  FALSE    \n",
       "6 1.7          17  FALSE    "
      ]
     },
     "metadata": {},
     "output_type": "display_data"
    },
    {
     "data": {
      "text/html": [
       "<table class=\"dataframe\">\n",
       "<caption>A tibble: 6 × 3</caption>\n",
       "<thead>\n",
       "\t<tr><th scope=col>played_hours</th><th scope=col>age</th><th scope=col>subscribe</th></tr>\n",
       "\t<tr><th scope=col>&lt;dbl&gt;</th><th scope=col>&lt;dbl&gt;</th><th scope=col>&lt;fct&gt;</th></tr>\n",
       "</thead>\n",
       "<tbody>\n",
       "\t<tr><td>48.4</td><td>17</td><td>TRUE</td></tr>\n",
       "\t<tr><td>32.0</td><td>22</td><td>TRUE</td></tr>\n",
       "\t<tr><td>30.3</td><td> 9</td><td>TRUE</td></tr>\n",
       "\t<tr><td>23.7</td><td>24</td><td>TRUE</td></tr>\n",
       "\t<tr><td>18.5</td><td>49</td><td>TRUE</td></tr>\n",
       "\t<tr><td> 5.6</td><td>17</td><td>TRUE</td></tr>\n",
       "</tbody>\n",
       "</table>\n"
      ],
      "text/latex": [
       "A tibble: 6 × 3\n",
       "\\begin{tabular}{lll}\n",
       " played\\_hours & age & subscribe\\\\\n",
       " <dbl> & <dbl> & <fct>\\\\\n",
       "\\hline\n",
       "\t 48.4 & 17 & TRUE\\\\\n",
       "\t 32.0 & 22 & TRUE\\\\\n",
       "\t 30.3 &  9 & TRUE\\\\\n",
       "\t 23.7 & 24 & TRUE\\\\\n",
       "\t 18.5 & 49 & TRUE\\\\\n",
       "\t  5.6 & 17 & TRUE\\\\\n",
       "\\end{tabular}\n"
      ],
      "text/markdown": [
       "\n",
       "A tibble: 6 × 3\n",
       "\n",
       "| played_hours &lt;dbl&gt; | age &lt;dbl&gt; | subscribe &lt;fct&gt; |\n",
       "|---|---|---|\n",
       "| 48.4 | 17 | TRUE |\n",
       "| 32.0 | 22 | TRUE |\n",
       "| 30.3 |  9 | TRUE |\n",
       "| 23.7 | 24 | TRUE |\n",
       "| 18.5 | 49 | TRUE |\n",
       "|  5.6 | 17 | TRUE |\n",
       "\n"
      ],
      "text/plain": [
       "  played_hours age subscribe\n",
       "1 48.4         17  TRUE     \n",
       "2 32.0         22  TRUE     \n",
       "3 30.3          9  TRUE     \n",
       "4 23.7         24  TRUE     \n",
       "5 18.5         49  TRUE     \n",
       "6  5.6         17  TRUE     "
      ]
     },
     "metadata": {},
     "output_type": "display_data"
    }
   ],
   "source": [
    "#data_wrangling scaled values \n",
    "\n",
    "\n",
    "\n",
    "\n",
    "set.seed(3456) \n",
    "\n",
    "# Randomly take 75% of the data in the training set. \n",
    "# This will be proportional to the different number of fruit names in the dataset.\n",
    "\n",
    "players_df_split <- initial_split(players_mutate, prop = 0.75, strata = subscribe)  \n",
    "players_df_train <- training(players_df_split)\n",
    "players_df_test <- testing(players_df_split)\n",
    "\n",
    "head(players_df_train)\n",
    "head(players_df_test)\n",
    "\n",
    "\n",
    "\n",
    "\n"
   ]
  },
  {
   "cell_type": "code",
   "execution_count": null,
   "id": "8e6b8a82-0214-4420-a8a4-24624a4431ea",
   "metadata": {},
   "outputs": [],
   "source": []
  }
 ],
 "metadata": {
  "kernelspec": {
   "display_name": "R",
   "language": "R",
   "name": "ir"
  },
  "language_info": {
   "codemirror_mode": "r",
   "file_extension": ".r",
   "mimetype": "text/x-r-source",
   "name": "R",
   "pygments_lexer": "r",
   "version": "4.3.3"
  }
 },
 "nbformat": 4,
 "nbformat_minor": 5
}
