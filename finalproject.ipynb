{
 "cells": [
  {
   "cell_type": "markdown",
   "id": "b205bd41-abc0-48ea-97cb-41b47784c938",
   "metadata": {},
   "source": [
    "hello "
   ]
  },
  {
   "cell_type": "markdown",
   "id": "29d920fc-171b-4988-90a3-c6094dec2b83",
   "metadata": {},
   "source": [
    "made new change"
   ]
  },
  {
   "cell_type": "markdown",
   "id": "1e8c0f24-8570-4a36-bc8b-79c8ac54d22e",
   "metadata": {},
   "source": [
    "helloooo It still doesn't work \n",
    "can you guys see\n"
   ]
  }
 ],
 "metadata": {
  "kernelspec": {
   "display_name": "R",
   "language": "R",
   "name": "ir"
  },
  "language_info": {
   "codemirror_mode": "r",
   "file_extension": ".r",
   "mimetype": "text/x-r-source",
   "name": "R",
   "pygments_lexer": "r",
   "version": "4.3.3"
  }
 },
 "nbformat": 4,
 "nbformat_minor": 5
}
