{
 "cells": [
  {
   "cell_type": "markdown",
   "id": "166049cb-3693-48d5-8064-6a5d76fab157",
   "metadata": {},
   "source": [
    "# Data Science Project"
   ]
  },
  {
   "cell_type": "code",
   "execution_count": null,
   "id": "ee4421a1-5631-44dd-9bac-3ac3dc48a1fd",
   "metadata": {},
   "outputs": [],
   "source": [
    "library(tidyverse)\n",
    "library(repr)\n",
    "library(tidymodels)\n"
   ]
  },
  {
   "cell_type": "code",
   "execution_count": null,
   "id": "dcb248c9-31a2-4d1e-ad67-42fea3035807",
   "metadata": {},
   "outputs": [],
   "source": [
    "url <- \"https://drive.google.com/uc?export=download&id=1kBbW3nLa_kBrNruxi2itBmCwvUT29w8b\" \n",
    "players_df <- read_csv(url)\n",
    "head(players_df)"
   ]
  },
  {
   "cell_type": "markdown",
   "id": "1e8c0f24-8570-4a36-bc8b-79c8ac54d22e",
   "metadata": {},
   "source": [
    "## Introduction:\n",
    "### Data Description:\n",
    "\n",
    "- experience (categorical): the players gaming experience level (Pro, Veteran, Amateur, beginner, or regular)\n",
    "subscribe (categorical): whether or not the player is subscribed to the newsletter. (True = subscriber, False = nonsubscriber)\n",
    "hasedEmail (categorical): an encrypted version of an email address that protects user privacy\n",
    "played_hours (numerical): the total hours played by the player\n",
    "name (categorical): players name\n",
    "gender (categorical): the players gender identity\n",
    "Age (numerical): the players age (in years)\n",
    "The “Players” dataset consists of 196 observations (rows) and 7 variables (columns), but there are potential data issues that may impact the accuracy and reliability of the analysis. The variable “Age” has two missing values that should be removed due to incomplete demographic data. Additionally, the “played_hours” variable has a wide distribution of values, consisting of outliers. Most values range from 0 to 50 hours, but some individuals have up to 200+ hours. Larger values could skew the data and lead to an inaccurate analysis. The mean value of each numerical column was found. For played_hours, the mean value was 5.845918 hours and the average age amongst the individuals was 20.52062 years old.\n",
    "\n"
   ]
  },
  {
   "cell_type": "code",
   "execution_count": null,
   "id": "3778f27b-7ff5-4f21-8f93-f268d80f1f5b",
   "metadata": {},
   "outputs": [],
   "source": []
  }
 ],
 "metadata": {
  "kernelspec": {
   "display_name": "R",
   "language": "R",
   "name": "ir"
  },
  "language_info": {
   "codemirror_mode": "r",
   "file_extension": ".r",
   "mimetype": "text/x-r-source",
   "name": "R",
   "pygments_lexer": "r",
   "version": "4.3.3"
  }
 },
 "nbformat": 4,
 "nbformat_minor": 5
}
